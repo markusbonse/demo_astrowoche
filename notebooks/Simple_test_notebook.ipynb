{
 "cells": [
  {
   "cell_type": "code",
   "execution_count": 2,
   "id": "9e55e7a3",
   "metadata": {},
   "outputs": [],
   "source": [
    "import numpy as np"
   ]
  },
  {
   "cell_type": "code",
   "execution_count": 3,
   "id": "4d31ca85",
   "metadata": {},
   "outputs": [],
   "source": [
    "a = 10"
   ]
  },
  {
   "cell_type": "code",
   "execution_count": 4,
   "id": "6612e4ae",
   "metadata": {},
   "outputs": [],
   "source": [
    "b = 12"
   ]
  },
  {
   "cell_type": "code",
   "execution_count": 5,
   "id": "730455c9",
   "metadata": {},
   "outputs": [],
   "source": [
    "c = 2"
   ]
  },
  {
   "cell_type": "code",
   "execution_count": 6,
   "id": "9388f3a6",
   "metadata": {},
   "outputs": [
    {
     "data": {
      "text/plain": [
       "112"
      ]
     },
     "execution_count": 6,
     "metadata": {},
     "output_type": "execute_result"
    }
   ],
   "source": [
    "a**2 + b"
   ]
  },
  {
   "cell_type": "code",
   "execution_count": 7,
   "id": "f1d6ebdc",
   "metadata": {},
   "outputs": [
    {
     "data": {
      "text/plain": [
       "16"
      ]
     },
     "execution_count": 7,
     "metadata": {},
     "output_type": "execute_result"
    }
   ],
   "source": [
    "c**2 + b"
   ]
  },
  {
   "cell_type": "markdown",
   "id": "f3a1bbad",
   "metadata": {},
   "source": [
    "Rule of thumb: If you copy paste code -> Write a function!!!"
   ]
  },
  {
   "cell_type": "code",
   "execution_count": 8,
   "id": "4fc03c4a",
   "metadata": {},
   "outputs": [],
   "source": [
    "def special_function(x, y):\n",
    "    return x**2 + y"
   ]
  },
  {
   "cell_type": "code",
   "execution_count": 9,
   "id": "9ffa1ec2",
   "metadata": {},
   "outputs": [
    {
     "data": {
      "text/plain": [
       "112"
      ]
     },
     "execution_count": 9,
     "metadata": {},
     "output_type": "execute_result"
    }
   ],
   "source": [
    "special_function(a, b)"
   ]
  },
  {
   "cell_type": "code",
   "execution_count": 10,
   "id": "29ec1206",
   "metadata": {},
   "outputs": [
    {
     "data": {
      "text/plain": [
       "16"
      ]
     },
     "execution_count": 10,
     "metadata": {},
     "output_type": "execute_result"
    }
   ],
   "source": [
    "special_function(c, b)"
   ]
  },
  {
   "cell_type": "markdown",
   "id": "a76905ad",
   "metadata": {},
   "source": [
    "## Use our own package"
   ]
  },
  {
   "cell_type": "code",
   "execution_count": 11,
   "id": "b8dbed3f",
   "metadata": {},
   "outputs": [],
   "source": [
    "from astrowoche.my_functions import special_function_final"
   ]
  },
  {
   "cell_type": "code",
   "execution_count": 12,
   "id": "e38bfc0f",
   "metadata": {},
   "outputs": [
    {
     "data": {
      "text/plain": [
       "16"
      ]
     },
     "execution_count": 12,
     "metadata": {},
     "output_type": "execute_result"
    }
   ],
   "source": [
    "special_function_final(c, b)"
   ]
  },
  {
   "cell_type": "code",
   "execution_count": null,
   "id": "11de7940",
   "metadata": {},
   "outputs": [],
   "source": []
  }
 ],
 "metadata": {
  "kernelspec": {
   "display_name": "Python 3 (ipykernel)",
   "language": "python",
   "name": "python3"
  },
  "language_info": {
   "codemirror_mode": {
    "name": "ipython",
    "version": 3
   },
   "file_extension": ".py",
   "mimetype": "text/x-python",
   "name": "python",
   "nbconvert_exporter": "python",
   "pygments_lexer": "ipython3",
   "version": "3.9.7"
  }
 },
 "nbformat": 4,
 "nbformat_minor": 5
}
